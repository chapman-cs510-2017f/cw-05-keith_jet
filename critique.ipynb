{
 "cells": [
  {
   "cell_type": "markdown",
   "metadata": {
    "collapsed": false
   },
   "source": [
    "# Critique the most recent classwork of Sharon Jet Kylan\n",
    "* Docstrings format and style of the code needs to updated to Google Python standards.\n",
    "* Did not define a Argumant in the Docstrings and did not define what it returns.\n",
    "* Add protections on weird characters entered into the the function I.E. can't enter an 'a' into the function.\n",
    "* Have more tests that test the boundary output and the boundary range.\n",
    "* scale: 87"
   ]
  },
  {
   "cell_type": "markdown",
   "metadata": {
    "collapsed": false
   },
   "source": [
    "# Critique the most recent classwork of Alice and Keith\n",
    "* No docstrings, no comments. hard to understand the interface and algorithm of the functions.\n",
    "* Have more tests that test the boundary output and the boundary range.\n",
    "* Protection needed for weird inputs and input completeness.\n",
    "* scale: 80 (need to know scale standard)\n",
    "\n",
    "\n"
   ]
  },
  {
   "cell_type": "code",
   "execution_count": 0,
   "metadata": {
    "collapsed": false
   },
   "outputs": [
   ],
   "source": [
   ]
  }
 ],
 "metadata": {
  "kernelspec": {
   "display_name": "Python 3 (Ubuntu Linux)",
   "language": "python",
   "name": "python3"
  },
  "language_info": {
   "codemirror_mode": {
    "name": "ipython",
    "version": 3
   },
   "file_extension": ".py",
   "mimetype": "text/x-python",
   "name": "python",
   "nbconvert_exporter": "python",
   "pygments_lexer": "ipython3",
   "version": "3.5.2"
  }
 },
 "nbformat": 4,
 "nbformat_minor": 0
}