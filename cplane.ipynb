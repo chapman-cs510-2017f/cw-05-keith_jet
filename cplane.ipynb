{
 "cells": [
  {
   "cell_type": "code",
   "execution_count": 0,
   "metadata": {
    "collapsed": false
   },
   "outputs": [
   ],
   "source": [
    "import cplane"
   ]
  },
  {
   "cell_type": "markdown",
   "metadata": {
    "collapsed": false
   },
   "source": [
    "# Abstract Base Class\n",
    "## Introduction \n",
    "Abstract Base Class does nothing by itself: all functionality is just a pass statement as written. Instead, a coder is intended to inherit from this class in order to adopt its\n",
    "interface. The set of attributes and methods of a class that subclasses the abstract base class should provide implementations as appropriate.\n",
    "\n",
    "## Why Use Abstract Base Class\n",
    "The point of such a structure is to guide other programmers into good design, so that they can use an interface that you expect to exist. This is part of the communal nature of\n",
    "coding. Your code does not exist in a vacuum. It exists in a community of other coders that are all sharing code with each other. Without proper communication on what people expect from each other, it devolves into chaos."
   ]
  },
  {
   "cell_type": "markdown",
   "metadata": {
    "collapsed": false
   },
   "source": [
    "# Complex Class Demonstration\n",
    "This class can creat, transform, refresh a comple plane. A complex plane is a 2D grid of complex numbers, having the form $(x + y*1j)$, where $1j$ is the unit imaginary number in Python, and one can think of x and y as the coordinates for the horizontal axis and the vertical axis of the plane. \n",
    "\n",
    "-------------\n",
    "## Properities\n",
    "### xmax (float) : maximum horizontal axis value\n",
    "### xmin (float) : minimum horizontal axis value\n",
    "### xlen (int)   : number of horizontal points\n",
    "### ymax (float) : maximum vertical axis value\n",
    "### ymin (float) : minimum vertical axis value\n",
    "### ylen (int)   : number of vertical points\n",
    "### plane        : stored complex plane implementation\n",
    "### fs (list[function]) : function sequence to transform plane\n",
    "\n",
    "-------------\n",
    "## Methods\n",
    "### \\__init\\__(self, xmin, xmax, xlen, ymin, ymax, ylen)\n",
    "Init the properties and call initplane to create a 2D grid complex plane\n",
    "\n",
    "### \\__initplane__\\(self)\n",
    "Create a 2D grid complex plane\n",
    "\n",
    "### refresh(self)\n",
    "Reset the grid to original plane created by class's properities\n",
    "\n",
    "### apply(self, f)\n",
    "Apply transformation to the complex plane by function f and add f into the properity fs list\n",
    "\n",
    "### zoom(self,xmin,xmax,xlen,ymin,ymax,ylen)\n",
    "Reset self.xmin, self.xmax, and self.xlen.Also reset self.ymin, self.ymax, and self.ylen.Regenerate the plane with the new range of the x- and y-axes,then apply all transformations in fs in the correct order to the new points so that the resulting value of self.plane is the final output of the sequence of transformations collected in the list self.fs\n"
   ]
  },
  {
   "cell_type": "markdown",
   "metadata": {
    "collapsed": false
   },
   "source": [
    "# Code Demonstration"
   ]
  },
  {
   "cell_type": "code",
   "execution_count": 3,
   "metadata": {
    "collapsed": false
   },
   "outputs": [
    {
     "name": "stdout",
     "output_type": "stream",
     "text": [
      "init plane\n",
      "[[(1+2j), (2.5+2j), (4+2j)], [(1+3.5j), (2.5+3.5j), (4+3.5j)], [(1+5j), (2.5+5j), (4+5j)]]\n",
      "double fun\n",
      "[[(2+4j), (5+4j), (8+4j)], [(2+7j), (5+7j), (8+7j)], [(2+10j), (5+10j), (8+10j)]]\n",
      "power fun\n",
      "[[(-12+16j), (9+40j), (48+64j)], [(-45+28j), (-24+70j), (15+112j)], [(-96+40j), (-75+100j), (-36+160j)]]\n",
      "[<function doubleplane at 0x7f3df66399d8>, <function powerplane at 0x7f3df635d730>]\n"
     ]
    }
   ],
   "source": [
    "\n",
    "LCP = ListComplexPlane(1,4,3,2,5,3)\n",
    "print(\"init plane\")\n",
    "print(LCP.plane)\n",
    "\n",
    "print(\"double fun\")\n",
    "LCP.apply(doubleplane)\n",
    "print(LCP.plane)\n",
    "\n",
    "print(\"power fun\")\n",
    "LCP.apply(powerplane)\n",
    "print(LCP.plane)\n",
    "\n",
    "print(LCP.fs)"
   ]
  },
  {
   "cell_type": "code",
   "execution_count": 0,
   "metadata": {
    "collapsed": false
   },
   "outputs": [
   ],
   "source": [
   ]
  },
  {
   "cell_type": "code",
   "execution_count": 0,
   "metadata": {
    "collapsed": false
   },
   "outputs": [
   ],
   "source": [
   ]
  }
 ],
 "metadata": {
  "kernelspec": {
   "display_name": "Python 3 (Ubuntu Linux)",
   "language": "python",
   "name": "python3"
  },
  "language_info": {
   "codemirror_mode": {
    "name": "ipython",
    "version": 3
   },
   "file_extension": ".py",
   "mimetype": "text/x-python",
   "name": "python",
   "nbconvert_exporter": "python",
   "pygments_lexer": "ipython3",
   "version": "3.5.2"
  }
 },
 "nbformat": 4,
 "nbformat_minor": 0
}